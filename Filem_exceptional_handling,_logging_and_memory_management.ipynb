{
  "nbformat": 4,
  "nbformat_minor": 0,
  "metadata": {
    "colab": {
      "provenance": []
    },
    "kernelspec": {
      "name": "python3",
      "display_name": "Python 3"
    },
    "language_info": {
      "name": "python"
    }
  },
  "cells": [
    {
      "cell_type": "markdown",
      "source": [
        "# Files, Exceptional handling, logging and memory management questions"
      ],
      "metadata": {
        "id": "6D2W-FH5BzMU"
      }
    },
    {
      "cell_type": "markdown",
      "source": [
        "# what is the difference between interpreted and compiled languages\n",
        "\n",
        "- Compiled Languages:\n",
        "    - The code is translated all at once into machine code by a compiler before it runs.\n",
        "    - This machine code is stored in an executable file (e.g., .exe).\n",
        "    - Execution is faster, because translation happens beforehand.\n",
        "\n",
        "- Interpreted Languages\n",
        "    - Code is translated and executed line-by-line by an interpreter at runtime.\n",
        "    - No separate executable is created.\n",
        "    - Execution is slower compared to compiled languages."
      ],
      "metadata": {
        "id": "8c7CG_9ACG60"
      }
    },
    {
      "cell_type": "markdown",
      "source": [
        "# What is exception handling in python?\n",
        "\n",
        "- Exception handling in Python is a way to manage errors that occur during the execution of a program, so it doesn’t crash unexpectedly.\n",
        "- Instead of stopping the program when an error occurs, Python allows you to catch and handle the error using try-except blocks.\n",
        "\n"
      ],
      "metadata": {
        "id": "MBwabGMACIS5"
      }
    },
    {
      "cell_type": "markdown",
      "source": [
        "# What is the purpose of the finally block in exception handling?\n",
        "\n",
        "- To guarantee execution of important cleanup tasks like:\n",
        "    - Closing files\n",
        "    - Releasing resources (e.g., database connections)\n",
        "    - Releasing memory or locks\n",
        "    - Logging final status\n",
        "\n"
      ],
      "metadata": {
        "id": "rRltdUQyCIPk"
      }
    },
    {
      "cell_type": "markdown",
      "source": [
        "# what is logging in python?\n",
        "\n",
        "- Logging in Python is the process of recording events, errors, and information that happen during the execution of a program.\n",
        "- Instead of using print() for debugging, Python’s logging module provides a standard and powerful way to keep track of what’s happening in your code — especially useful in production."
      ],
      "metadata": {
        "id": "3kjcQ2zpCINU"
      }
    },
    {
      "cell_type": "markdown",
      "source": [
        "# What is the significance of the __del__ method in python?\n",
        "\n",
        "- To perform cleanup actions before an object is removed from memory, such as:\n",
        "    - Closing files\n",
        "    - Releasing network connections\n",
        "    - Releasing memory or resources\n",
        "    - Logging object destruction"
      ],
      "metadata": {
        "id": "giydn2YFCILG"
      }
    },
    {
      "cell_type": "markdown",
      "source": [
        "# What is the difference between import and from_import in python?\n",
        "\n",
        "- Import statement:\n",
        "    - Imports the entire module.\n",
        "    - You need to use the module name as a prefix when accessing functions/attributes.\n",
        "\n",
        "- From_import:\n",
        "    - Imports specific functions, classes, or variables from a module.\n",
        "    - You can use them directly without the module name."
      ],
      "metadata": {
        "id": "Pw4WUO2VCIHH"
      }
    },
    {
      "cell_type": "markdown",
      "source": [
        "# How can you handle the multiple exception in python?\n",
        "\n",
        "- Multiple except Blocks: You can write separate except blocks for different exceptions\n",
        "- Single except Block with Multiple Exceptions: Use a tuple of exceptions in a single except block if the handling is the same\n",
        "- Generic except to Catch All Exceptions\n",
        "- Using else and finally"
      ],
      "metadata": {
        "id": "RBC-RjRsCH8M"
      }
    },
    {
      "cell_type": "markdown",
      "source": [
        "# What is the purpose of the with statement when handling files in python?\n",
        "\n",
        "- The with statement in Python is used to simplify file handling by automatically managing resources — especially opening and closing files.\n",
        "\n",
        "- To ensure that files are properly closed after their operations are done, even if an error occurs during file processing."
      ],
      "metadata": {
        "id": "kXtEDmpXCH5A"
      }
    },
    {
      "cell_type": "markdown",
      "source": [
        "# What is the difference between multithreading and multiprocessing?\n",
        "\n",
        "- Multithreading\n",
        "    - Uses multiple threads within a single process.\n",
        "    - Threads share the same memory space.\n",
        "    - Best for I/O-bound tasks (like file operations, web requests).\n",
        "\n",
        "- Multiprocessing\n",
        "    - Uses the multiprocessing module.\n",
        "    - Spawns separate processes, each with its own Python interpreter and memory.\n",
        "    - Not affected by the GIL, so ideal for CPU-bound tasks (like math-heavy computations)."
      ],
      "metadata": {
        "id": "0qOY2iDcCH2s"
      }
    },
    {
      "cell_type": "markdown",
      "source": [
        "# What are the advantages of using logging in a program?\n",
        "\n",
        "- Helps with Debugging and Troubleshooting\n",
        "- Allows Different Levels of Severity\n",
        "-  Better than Print Statements\n",
        "- Log Persistence\n",
        "-  Configurable Output"
      ],
      "metadata": {
        "id": "7Yc9ivErCHzj"
      }
    },
    {
      "cell_type": "markdown",
      "source": [
        "# What is memory management in python?\n",
        "\n",
        "- Memory management in Python refers to the automatic process of allocating, using, and releasing memory during a program's execution. Python handles this behind the scenes using a combination of:\n",
        "    - Reference counting\n",
        "    - Garbage collection\n",
        "    - Memory pools\n",
        "\n"
      ],
      "metadata": {
        "id": "BvkdgABfCHxC"
      }
    },
    {
      "cell_type": "markdown",
      "source": [
        "# What are the basic steps involved in exception handling in python?\n",
        "\n",
        "- Use try Block: Wrap the code that may raise an exception in a try block.\n",
        "- Use except Block: Catch and handle specific or general exceptions.\n",
        "- Use else Block: Runs only if no exception was raised in the try block."
      ],
      "metadata": {
        "id": "i5H5RawhCHua"
      }
    },
    {
      "cell_type": "markdown",
      "source": [
        "# Why is memory management important in python?\n",
        "\n",
        "1. Efficient Use of Resources\n",
        "    - Memory is limited. Proper management helps avoid wasting memory on unused or redundant data.\n",
        "    - Especially important in large-scale applications, data processing, or server-side systems.\n",
        "\n",
        "2. Prevents Memory Leaks\n",
        "    - Even with garbage collection, careless code (e.g. lingering references or global variables) can cause memory to accumulate over time, leading to slowdowns or crashes.\n",
        "\n",
        "3. Improves Performance\n",
        "    - Reducing unnecessary memory usage leads to:\n",
        "    - Faster execution\n",
        "    - Lower CPU load\n",
        "    - Better responsiveness\n",
        "\n",
        "4. Supports Scalability\n",
        "    - In data-heavy applications (e.g., ML, web scraping, or APIs), poor memory use can limit how much your program can handle.\n",
        "    - Efficient memory usage = better scalability.\n",
        "\n",
        "5. Avoids Crashes and Errors\n",
        "    - If your program runs out of memory, it can crash with MemoryError.\n",
        "    - Good memory management ensures stability and reliability"
      ],
      "metadata": {
        "id": "_r6-jWGYCHsu"
      }
    },
    {
      "cell_type": "markdown",
      "source": [
        "# What is the role of try and except in exception handling?\n",
        "\n",
        "- The try and except blocks are the core components of Python's exception handling system. They allow your program to catch and handle errors gracefully instead of crashing when something goes wrong."
      ],
      "metadata": {
        "id": "ya_L_g6pCHoU"
      }
    },
    {
      "cell_type": "markdown",
      "source": [
        "# How does python's garbage collection system work?\n",
        "\n",
        "- Python’s garbage collection (GC) system is responsible for automatically freeing up memory by reclaiming unused objects, preventing memory leaks and keeping your programs efficient.\n",
        "\n"
      ],
      "metadata": {
        "id": "RoiPCObgCHcG"
      }
    },
    {
      "cell_type": "markdown",
      "source": [
        "# What is the purpose of the else block in exception handling?\n",
        "\n",
        "- The else block in Python's exception handling structure is optional, and its purpose is to define code that should run only if no exceptions were raised in the try block."
      ],
      "metadata": {
        "id": "KdmVd70HVCQG"
      }
    },
    {
      "cell_type": "markdown",
      "source": [
        "# What are the common logging levels in python?\n",
        "\n",
        "- Python’s logging module provides a set of standard logging levels to classify messages based on severity. These levels help control what gets logged and how messages are filtered.\n",
        "\n",
        "- Levels are:\n",
        "    - DEBUG\n",
        "    - INFO\n",
        "    - WARNING\n",
        "    - ERROR\n",
        "    - CRITICAL"
      ],
      "metadata": {
        "id": "YX0376lEVD0_"
      }
    },
    {
      "cell_type": "markdown",
      "source": [
        "# Whar are the difference between os.fork() and multiprocessing in python?\n",
        "\n",
        "- Both os.fork() and the multiprocessing module in Python are used to create new processes, but they differ significantly in usage, portability, and abstraction level.\n",
        "\n",
        "-  os.fork() – Low-Level Process Creation\n",
        "    - What it does: Creates a child process by duplicating the current process.\n",
        "\n",
        "    - Platform: Unix/Linux only\n",
        "\n",
        "    - Control: Gives direct, low-level control over process creation.\n",
        "\n",
        "    - Usage: Manual management of communication, PIDs, and cleanup.\n",
        "\n",
        "\n",
        "-  multiprocessing – High-Level Abstraction\n",
        "    - What it does: Provides a cross-platform way to create processes.\n",
        "\n",
        "    - Platform: Works on Windows, Linux, and macOS\n",
        "\n",
        "    - Control: High-level API for managing processes, pools, queues, locks, etc.\n",
        "\n",
        "    - Usage: Much simpler and safer than fork() for most use cases."
      ],
      "metadata": {
        "id": "CeJXnjYCVDl6"
      }
    },
    {
      "cell_type": "markdown",
      "source": [
        "# What is the importance of closing a file in python?\n",
        "\n",
        "1. Releases System Resources\n",
        "    - Open files consume system resources (like file descriptors).\n",
        "    - If too many files remain open, you might hit the system's file limit, leading to errors.\n",
        "\n",
        "2. Flushes the Buffer\n",
        "    - Data written to a file is often temporarily stored in a buffer before being saved to disk.\n",
        "    - file.close() ensures all buffered data is written (flushed) and saved properly.\n",
        "\n",
        "3. Prevents Data Corruption\n",
        "    - If a file isn’t closed correctly, it might lead to incomplete writes or file corruption — particularly dangerous for databases and logs.\n",
        "\n",
        "4. Avoids File Access Conflicts\n",
        "    - On some systems, a file can't be read or written by another program until it's closed.\n",
        "\n",
        "    - Closing the file releases the lock and allows others to access it.\n",
        "\n",
        "5. Ensures Code Portability and Safety\n",
        "    - While some environments auto-close files at the end of execution, relying on this behavior is not safe or portable across all platforms and Python versions."
      ],
      "metadata": {
        "id": "gEIm8DUEVDi_"
      }
    },
    {
      "cell_type": "markdown",
      "source": [
        "# What is the difference between file.read() and file.readline() in python?\n",
        "\n",
        "- file.read()\n",
        "    - Reads the entire file (or specified number of characters).\n",
        "    - Returns all content as one big string.\n",
        "\n",
        "- file.readline()\n",
        "    - Reads one line at a time.\n",
        "    - Each call to readline() reads the next line, including the newline character (\\n)."
      ],
      "metadata": {
        "id": "p29Z_NMxVDgw"
      }
    },
    {
      "cell_type": "markdown",
      "source": [
        "# What is the logging module in python used for?\n",
        "\n",
        "- The logging module in Python is used to record messages (log entries) from a program. It helps you track events, debug issues, and monitor application behavior during execution.\n"
      ],
      "metadata": {
        "id": "5Yn6yxa5VDcj"
      }
    },
    {
      "cell_type": "markdown",
      "source": [
        "# What is the os module in python used for in the file handling?\n",
        "\n",
        "- The os module in Python provides a way to interact with the operating system, especially for file and directory management. It includes functions for creating, deleting, navigating, and modifying files and folders."
      ],
      "metadata": {
        "id": "rCvZfH5DVDae"
      }
    },
    {
      "cell_type": "markdown",
      "source": [
        "# What are the challenges associated with memory management in python?\n",
        "\n",
        "- Python handles memory automatically through its garbage collector and dynamic memory allocation, but it still faces several challenges, especially in large or performance-critical applications.\n",
        "\n",
        "- Memory Leaks\n",
        "- Circular References\n",
        "- Performance overhead from garbage collection\n",
        "- High memory consumption of object\n",
        "- Fragmentation"
      ],
      "metadata": {
        "id": "rYglX_ReVDXq"
      }
    },
    {
      "cell_type": "markdown",
      "source": [
        "# How do you raise an exception manually in python?\n",
        "\n",
        "- In Python, you can manually raise an exception using the raise statement. This is useful when you want to signal an error or enforce a rule in your program logic.\n",
        "- Raising exceptions helps you catch bugs early.\n",
        "- Use specific exception types rather than Exception for better error handling.\n",
        "- Combine with try/except to handle them gracefully.\n",
        "\n",
        "\n",
        "\n"
      ],
      "metadata": {
        "id": "Hfk_Cfv3VDU2"
      }
    },
    {
      "cell_type": "markdown",
      "source": [
        "# Why is it important to use multithreading in certain application?\n",
        "\n",
        "- Multithreading is important in applications where tasks can run concurrently or need to stay responsive while performing background work. It allows a program to perform multiple operations simultaneously within a single process.\n",
        "\n",
        "- key reasons to use multithreading:\n",
        "    - Improves responsiveness in user interfaces\n",
        "    - Efficient I/O-Bound Task Handling\n",
        "    - concurrency without multiple processes\n",
        "    - better resource utilization\n",
        "    - simplified communication"
      ],
      "metadata": {
        "id": "1auWC_JbVDTR"
      }
    },
    {
      "cell_type": "markdown",
      "source": [
        "# PRACTICAL QUESTIONS"
      ],
      "metadata": {
        "id": "RMCX-v9CVDPE"
      }
    },
    {
      "cell_type": "markdown",
      "source": [
        "# How can you open a file for writing in Python and write a string to it?"
      ],
      "metadata": {
        "id": "oLHb4af4VCpb"
      }
    },
    {
      "cell_type": "code",
      "source": [
        "with open(\"filename.txt\", \"w\") as file:\n",
        "    file.write(\"This is a line of text.\")\n"
      ],
      "metadata": {
        "id": "tPHIOLUmnBmd"
      },
      "execution_count": null,
      "outputs": []
    },
    {
      "cell_type": "markdown",
      "source": [
        "# Write a python program to read the contents of a file and print each line."
      ],
      "metadata": {
        "id": "rFHthQ_6nQkf"
      }
    },
    {
      "cell_type": "code",
      "source": [
        "filename = \"example.txt\"\n",
        "\n",
        "try:\n",
        "    # Open the file in read mode\n",
        "    with open(filename, \"r\") as file:\n",
        "        # Read and print each line\n",
        "        for line in file:\n",
        "            print(line, end=\"\")\n",
        "except FileNotFoundError:\n",
        "    print(f\"The file '{filename}' was not found.\")\n",
        "except Exception as e:\n",
        "    print(f\"An error occurred: {e}\")\n"
      ],
      "metadata": {
        "colab": {
          "base_uri": "https://localhost:8080/"
        },
        "id": "p1EWbYyvnF9e",
        "outputId": "5c8d957f-d94e-43af-e105-3d29a98b7165"
      },
      "execution_count": null,
      "outputs": [
        {
          "output_type": "stream",
          "name": "stdout",
          "text": [
            "The file 'example.txt' was not found.\n"
          ]
        }
      ]
    },
    {
      "cell_type": "markdown",
      "source": [
        "# How would you handle a case where the file doesn't exist while trying to open it for reading?"
      ],
      "metadata": {
        "id": "OP_5S6WWn3wN"
      }
    },
    {
      "cell_type": "code",
      "source": [
        "filename = \"nonexistent_file.txt\"\n",
        "\n",
        "try:\n",
        "    with open(filename, \"r\") as file:\n",
        "        for line in file:\n",
        "            print(line, end=\"\")\n",
        "except FileNotFoundError:\n",
        "    print(f\"Error: The file '{filename}' was not found.\")\n"
      ],
      "metadata": {
        "colab": {
          "base_uri": "https://localhost:8080/"
        },
        "id": "lD_PX71EnzWF",
        "outputId": "c72ac2a8-23d4-48e8-fe63-70a3d027fbea"
      },
      "execution_count": null,
      "outputs": [
        {
          "output_type": "stream",
          "name": "stdout",
          "text": [
            "Error: The file 'nonexistent_file.txt' was not found.\n"
          ]
        }
      ]
    },
    {
      "cell_type": "markdown",
      "source": [
        "# Write a python script that reads from one file and writes its content to another file."
      ],
      "metadata": {
        "id": "7t9UWW-eoJ4g"
      }
    },
    {
      "cell_type": "code",
      "source": [
        "# Source and destination file names\n",
        "source_file = \"source.txt\"\n",
        "destination_file = \"destination.txt\"\n",
        "\n",
        "try:\n",
        "    # Open the source file for reading\n",
        "    with open(source_file, \"r\") as src:\n",
        "        # Read all content from the source file\n",
        "        content = src.read()\n",
        "\n",
        "    # Open the destination file for writing\n",
        "    with open(destination_file, \"w\") as dest:\n",
        "        # Write content to the destination file\n",
        "        dest.write(content)\n",
        "\n",
        "    print(f\"Contents copied from '{source_file}' to '{destination_file}' successfully.\")\n",
        "\n",
        "except FileNotFoundError:\n",
        "    print(f\"Error: '{source_file}' does not exist.\")\n",
        "except Exception as e:\n",
        "    print(f\"An error occurred: {e}\")\n"
      ],
      "metadata": {
        "colab": {
          "base_uri": "https://localhost:8080/"
        },
        "id": "tjNHlBG3oGqx",
        "outputId": "3d53e36e-bb39-471c-f142-2b261d1982c0"
      },
      "execution_count": null,
      "outputs": [
        {
          "output_type": "stream",
          "name": "stdout",
          "text": [
            "Error: 'source.txt' does not exist.\n"
          ]
        }
      ]
    },
    {
      "cell_type": "markdown",
      "source": [
        "# How would you catch and handle division by zero error in python?"
      ],
      "metadata": {
        "id": "dbcaJT9_odMo"
      }
    },
    {
      "cell_type": "code",
      "source": [
        "try:\n",
        "    numerator = 10\n",
        "    denominator = 0\n",
        "    result = numerator / denominator\n",
        "    print(\"Result:\", result)\n",
        "\n",
        "except ZeroDivisionError:\n",
        "    print(\"Error: Cannot divide by zero.\")\n"
      ],
      "metadata": {
        "colab": {
          "base_uri": "https://localhost:8080/"
        },
        "id": "XW8qlcq2obu6",
        "outputId": "f4a3c8e6-e5a0-4181-88a0-9c2e9a73314d"
      },
      "execution_count": null,
      "outputs": [
        {
          "output_type": "stream",
          "name": "stdout",
          "text": [
            "Error: Cannot divide by zero.\n"
          ]
        }
      ]
    },
    {
      "cell_type": "markdown",
      "source": [
        "# Write a python program that logs an error message to a log file when a division by zero exception occurs."
      ],
      "metadata": {
        "id": "j4YjkLW4otTE"
      }
    },
    {
      "cell_type": "code",
      "source": [
        "import logging\n",
        "\n",
        "# Configure logging to write to a file\n",
        "logging.basicConfig(\n",
        "    filename='error_log.txt',       # Log file name\n",
        "    level=logging.ERROR,            # Log level\n",
        "    format='%(asctime)s - %(levelname)s - %(message)s'\n",
        ")\n",
        "\n",
        "# Function to perform division\n",
        "def divide(a, b):\n",
        "    try:\n",
        "        result = a / b\n",
        "        print(\"Result:\", result)\n",
        "    except ZeroDivisionError:\n",
        "        logging.error(\"Attempted to divide by zero: %d / %d\", a, b)\n",
        "        print(\"Error: Cannot divide by zero.\")\n",
        "\n",
        "# Example usage\n",
        "divide(10, 0)\n"
      ],
      "metadata": {
        "colab": {
          "base_uri": "https://localhost:8080/"
        },
        "id": "Xz3wBFBiorhr",
        "outputId": "d85965f0-22ac-4929-e07f-b9729125e60b"
      },
      "execution_count": null,
      "outputs": [
        {
          "output_type": "stream",
          "name": "stderr",
          "text": [
            "ERROR:root:Attempted to divide by zero: 10 / 0\n"
          ]
        },
        {
          "output_type": "stream",
          "name": "stdout",
          "text": [
            "Error: Cannot divide by zero.\n"
          ]
        }
      ]
    },
    {
      "cell_type": "markdown",
      "source": [
        "# How do you log information at different levels (INFO, ERROR, WARNING) in python using the logging module?"
      ],
      "metadata": {
        "id": "kkqidmCjpKCh"
      }
    },
    {
      "cell_type": "code",
      "source": [
        "import logging\n",
        "\n",
        "# Configure the logger\n",
        "logging.basicConfig(\n",
        "    filename='app.log',           # Log file name\n",
        "    level=logging.DEBUG,          # Set the minimum level to log\n",
        "    format='%(asctime)s - %(levelname)s - %(message)s'\n",
        ")\n",
        "\n",
        "# Logging messages at different levels\n",
        "logging.debug(\"This is a debug message.\")\n",
        "logging.info(\"This is an info message.\")\n",
        "logging.warning(\"This is a warning message.\")\n",
        "logging.error(\"This is an error message.\")\n",
        "logging.critical(\"This is a critical message.\")\n"
      ],
      "metadata": {
        "colab": {
          "base_uri": "https://localhost:8080/"
        },
        "id": "yNzjeu5IpJgI",
        "outputId": "1480878d-c0c5-435d-e8d6-416f51b75b65"
      },
      "execution_count": null,
      "outputs": [
        {
          "output_type": "stream",
          "name": "stderr",
          "text": [
            "WARNING:root:This is a warning message.\n",
            "ERROR:root:This is an error message.\n",
            "CRITICAL:root:This is a critical message.\n"
          ]
        }
      ]
    },
    {
      "cell_type": "markdown",
      "source": [
        "# Write a python program to handle a file opening error using exception handling."
      ],
      "metadata": {
        "id": "letkyCwLpx-3"
      }
    },
    {
      "cell_type": "code",
      "source": [
        "filename = \"nonexistent_file.txt\"  # Change to a file that may not exist\n",
        "\n",
        "try:\n",
        "    with open(filename, \"r\") as file:\n",
        "        content = file.read()\n",
        "        print(\"File contents:\\n\", content)\n",
        "\n",
        "except FileNotFoundError:\n",
        "    print(f\"Error: The file '{filename}' was not found.\")\n",
        "\n",
        "except PermissionError:\n",
        "    print(f\"Error: You don't have permission to open '{filename}'.\")\n",
        "\n",
        "except Exception as e:\n",
        "    print(f\"An unexpected error occurred: {e}\")\n"
      ],
      "metadata": {
        "colab": {
          "base_uri": "https://localhost:8080/"
        },
        "id": "WbKVe1-EpHmH",
        "outputId": "58842587-ec51-4505-9e94-1a5ab7baa1a6"
      },
      "execution_count": null,
      "outputs": [
        {
          "output_type": "stream",
          "name": "stdout",
          "text": [
            "Error: The file 'nonexistent_file.txt' was not found.\n"
          ]
        }
      ]
    },
    {
      "cell_type": "markdown",
      "source": [
        "# How can you read a file line by line and store its content in a list in python?"
      ],
      "metadata": {
        "id": "MUYqOykXqCpf"
      }
    },
    {
      "cell_type": "code",
      "source": [
        "with open(\"example.txt\", \"r\") as file:\n",
        "    lines = [line.strip() for line in file]\n",
        "\n",
        "print(lines)\n"
      ],
      "metadata": {
        "id": "p_JOgj10q1Gc"
      },
      "execution_count": null,
      "outputs": []
    },
    {
      "cell_type": "markdown",
      "source": [
        "# How can you append data to an existing file in python?"
      ],
      "metadata": {
        "id": "NYqWnVp_rDpp"
      }
    },
    {
      "cell_type": "code",
      "source": [
        "with open(\"example.txt\", \"a\") as file:\n",
        "    file.write(\"This is an appended line.\\n\")\n"
      ],
      "metadata": {
        "id": "iBt-_4LSrR4i"
      },
      "execution_count": null,
      "outputs": []
    },
    {
      "cell_type": "markdown",
      "source": [
        "# write a python program that uses a try-except block to handle an error when attempting to access a dictionary key that doesn't exist."
      ],
      "metadata": {
        "id": "XRqoWNfKrdGu"
      }
    },
    {
      "cell_type": "code",
      "source": [
        "# Sample dictionary\n",
        "person = {\n",
        "    \"name\": \"Alice\",\n",
        "    \"age\": 30\n",
        "}\n",
        "\n",
        "# Attempt to access a key that may not exist\n",
        "try:\n",
        "    print(\"Name:\", person[\"name\"])\n",
        "    print(\"Country:\", person[\"country\"])  # Key doesn't exist\n",
        "except KeyError as e:\n",
        "    print(f\"Error: Key '{e}' not found in the dictionary.\")\n"
      ],
      "metadata": {
        "colab": {
          "base_uri": "https://localhost:8080/"
        },
        "id": "ecSNSJ3dreJm",
        "outputId": "9efd5dd3-87a9-4246-d053-0f8f1c3db932"
      },
      "execution_count": null,
      "outputs": [
        {
          "output_type": "stream",
          "name": "stdout",
          "text": [
            "Name: Alice\n",
            "Error: Key ''country'' not found in the dictionary.\n"
          ]
        }
      ]
    },
    {
      "cell_type": "markdown",
      "source": [
        "# Write a program that demonstrates using multiple except blocks to handle different types of excetions."
      ],
      "metadata": {
        "id": "-mINHpi9rRGA"
      }
    },
    {
      "cell_type": "code",
      "source": [
        "def demo_exceptions():\n",
        "    data = {\"name\": \"Alice\", \"age\": 30}\n",
        "\n",
        "    try:\n",
        "        # Trigger a ZeroDivisionError\n",
        "        result = 10 / 0\n",
        "\n",
        "        # Trigger a KeyError\n",
        "        city = data[\"city\"]\n",
        "\n",
        "    except ZeroDivisionError:\n",
        "        print(\"Error: You tried to divide by zero.\")\n",
        "\n",
        "    except KeyError as e:\n",
        "        print(f\"Error: Key '{e}' not found in the dictionary.\")\n",
        "\n",
        "    except Exception as e:\n",
        "        print(f\"An unexpected error occurred: {e}\")\n",
        "\n",
        "# Run the function\n",
        "demo_exceptions()\n"
      ],
      "metadata": {
        "colab": {
          "base_uri": "https://localhost:8080/"
        },
        "id": "g0ECEbhOrfJs",
        "outputId": "edc063a6-2457-4168-885b-f67044bb89fc"
      },
      "execution_count": null,
      "outputs": [
        {
          "output_type": "stream",
          "name": "stdout",
          "text": [
            "Error: You tried to divide by zero.\n"
          ]
        }
      ]
    },
    {
      "cell_type": "markdown",
      "source": [
        "#  how would you check if a file exists before attemptiong to read it in python?"
      ],
      "metadata": {
        "id": "Mpr_wWVaudq3"
      }
    },
    {
      "cell_type": "code",
      "source": [
        "import os\n",
        "\n",
        "filename = \"example.txt\"\n",
        "\n",
        "if os.path.exists(filename):\n",
        "    with open(filename, \"r\") as file:\n",
        "        content = file.read()\n",
        "        print(\"File content:\\n\", content)\n",
        "else:\n",
        "    print(f\"Error: File '{filename}' does not exist.\")\n"
      ],
      "metadata": {
        "colab": {
          "base_uri": "https://localhost:8080/"
        },
        "id": "qD9nMZGQskpG",
        "outputId": "4af5f93c-83bf-46e8-b73a-12d288cffbd2"
      },
      "execution_count": null,
      "outputs": [
        {
          "output_type": "stream",
          "name": "stdout",
          "text": [
            "File content:\n",
            " This is an appended line.\n",
            "\n"
          ]
        }
      ]
    },
    {
      "cell_type": "markdown",
      "source": [
        "# Write a program that uses the logging module to log both informational and error messages."
      ],
      "metadata": {
        "id": "228vsXZt8WW-"
      }
    },
    {
      "cell_type": "code",
      "source": [
        "import logging\n",
        "\n",
        "# Configure logging\n",
        "logging.basicConfig(\n",
        "    filename='app.log',              # Log messages will be saved to 'app.log'\n",
        "    filemode='a',                    # Append to the file\n",
        "    format='%(asctime)s - %(levelname)s - %(message)s',\n",
        "    level=logging.DEBUG              # Capture all levels DEBUG and above\n",
        ")\n",
        "\n",
        "def divide(a, b):\n",
        "    try:\n",
        "        logging.info(f\"Attempting to divide {a} by {b}\")\n",
        "        result = a / b\n",
        "        logging.info(f\"Division successful: {result}\")\n",
        "        return result\n",
        "    except ZeroDivisionError as e:\n",
        "        logging.error(\"Division by zero attempted\")\n",
        "        logging.exception(\"Exception occurred\")  # Logs traceback\n",
        "        return None\n",
        "    except Exception as e:\n",
        "        logging.error(\"An unexpected error occurred\")\n",
        "        logging.exception(\"Exception occurred\")\n",
        "        return None\n",
        "\n",
        "# Sample calls\n",
        "divide(10, 2)   # Should log info messages\n",
        "divide(5, 0)    # Should log an error message\n"
      ],
      "metadata": {
        "id": "xheIfNqIuyKu",
        "colab": {
          "base_uri": "https://localhost:8080/"
        },
        "outputId": "5a4b893d-e467-4266-9c9f-b6beef0d7894"
      },
      "execution_count": 1,
      "outputs": [
        {
          "output_type": "stream",
          "name": "stderr",
          "text": [
            "ERROR:root:Division by zero attempted\n",
            "ERROR:root:Exception occurred\n",
            "Traceback (most recent call last):\n",
            "  File \"<ipython-input-1-3790523151>\", line 14, in divide\n",
            "    result = a / b\n",
            "             ~~^~~\n",
            "ZeroDivisionError: division by zero\n"
          ]
        }
      ]
    },
    {
      "cell_type": "markdown",
      "source": [
        "# Write a python program to creae and write a list of numbers to a file, one number per line?"
      ],
      "metadata": {
        "id": "AKtVHoQN8tG8"
      }
    },
    {
      "cell_type": "code",
      "source": [
        "# List of numbers to write\n",
        "numbers = [10, 20, 30, 40, 50]\n",
        "\n",
        "# File name\n",
        "filename = \"numbers.txt\"\n",
        "\n",
        "# Write each number to the file, one per line\n",
        "with open(filename, 'w') as file:\n",
        "    for number in numbers:\n",
        "        file.write(str(number) + '\\n')\n",
        "\n",
        "print(f\"Numbers written to {filename} successfully.\")\n"
      ],
      "metadata": {
        "colab": {
          "base_uri": "https://localhost:8080/"
        },
        "id": "7dmbvEa-8rlZ",
        "outputId": "373354f4-d0d3-4d26-d16c-1161a341ccb0"
      },
      "execution_count": 2,
      "outputs": [
        {
          "output_type": "stream",
          "name": "stdout",
          "text": [
            "Numbers written to numbers.txt successfully.\n"
          ]
        }
      ]
    },
    {
      "cell_type": "markdown",
      "source": [
        "# Write a python program to create and write a list of numbers to a file, one number per line."
      ],
      "metadata": {
        "id": "Cs7v5CEf93y0"
      }
    },
    {
      "cell_type": "code",
      "source": [
        "# Define a list of numbers\n",
        "numbers = [1, 2, 3, 4, 5, 10, 20, 50]\n",
        "\n",
        "# Open a file in write mode\n",
        "with open(\"numbers.txt\", \"w\") as file:\n",
        "    for number in numbers:\n",
        "        file.write(f\"{number}\\n\")\n",
        "\n",
        "print(\"Numbers have been written to 'numbers.txt'.\")\n"
      ],
      "metadata": {
        "colab": {
          "base_uri": "https://localhost:8080/"
        },
        "id": "2zWHToKm9U40",
        "outputId": "8c5d7c4a-226d-4f74-8d6b-51d6e76a40fc"
      },
      "execution_count": 7,
      "outputs": [
        {
          "output_type": "stream",
          "name": "stdout",
          "text": [
            "Numbers have been written to 'numbers.txt'.\n"
          ]
        }
      ]
    },
    {
      "cell_type": "markdown",
      "source": [
        "# How would you implement a basic logging setup that logs to a file with rotation after 1MB?"
      ],
      "metadata": {
        "id": "jSHzWiZS-KrH"
      }
    },
    {
      "cell_type": "code",
      "source": [
        "import logging\n",
        "from logging.handlers import RotatingFileHandler\n",
        "\n",
        "# Create a logger\n",
        "logger = logging.getLogger(\"MyLogger\")\n",
        "logger.setLevel(logging.DEBUG)  # Set logging level\n",
        "\n",
        "# Create a rotating file handler: max 1MB per file, keep 3 backups\n",
        "handler = RotatingFileHandler(\n",
        "    \"app.log\", maxBytes=1_000_000, backupCount=3\n",
        ")\n",
        "\n",
        "# Define log format\n",
        "formatter = logging.Formatter(\n",
        "    '%(asctime)s - %(levelname)s - %(message)s'\n",
        ")\n",
        "handler.setFormatter(formatter)\n",
        "\n",
        "# Add the handler to the logger\n",
        "logger.addHandler(handler)\n",
        "\n",
        "# Example usage\n",
        "for i in range(10000):\n",
        "    logger.info(f\"This is log message number {i}\")\n"
      ],
      "metadata": {
        "id": "CtFhgsB7_OzO"
      },
      "execution_count": null,
      "outputs": []
    },
    {
      "cell_type": "markdown",
      "source": [
        "# Write a program that handles both index error and keyerror using a try-except block."
      ],
      "metadata": {
        "id": "ROOXsqAl-rx2"
      }
    },
    {
      "cell_type": "code",
      "source": [
        "def handle_errors():\n",
        "    my_list = [10, 20, 30]\n",
        "    my_dict = {\"a\": 1, \"b\": 2}\n",
        "\n",
        "    try:\n",
        "        # Attempting to access an invalid index\n",
        "        print(\"List element at index 5:\", my_list[5])\n",
        "\n",
        "        # Attempting to access a non-existent key\n",
        "        print(\"Value for key 'z':\", my_dict[\"z\"])\n",
        "\n",
        "    except IndexError:\n",
        "        print(\"Caught an IndexError: List index is out of range.\")\n",
        "\n",
        "    except KeyError:\n",
        "        print(\"Caught a KeyError: Key not found in dictionary.\")\n",
        "\n",
        "# Call the function\n",
        "handle_errors()\n",
        "\n",
        "\n"
      ],
      "metadata": {
        "colab": {
          "base_uri": "https://localhost:8080/"
        },
        "id": "87TCQDQA-lQE",
        "outputId": "4b72e99a-39ae-4b64-fa6c-48ea76306750"
      },
      "execution_count": 11,
      "outputs": [
        {
          "output_type": "stream",
          "name": "stdout",
          "text": [
            "Caught an IndexError: List index is out of range.\n"
          ]
        }
      ]
    },
    {
      "cell_type": "markdown",
      "source": [
        "# How would you open a file and read its contents using a context manager in python?"
      ],
      "metadata": {
        "id": "SxypbUeg_knv"
      }
    },
    {
      "cell_type": "code",
      "source": [
        "# Open and read a file using a context manager\n",
        "with open(\"example.txt\", \"r\") as file:\n",
        "    contents = file.read()\n",
        "    print(contents)\n",
        "\n",
        "# To read line by line\n",
        "\n",
        "with open(\"example.txt\", \"r\") as file:\n",
        "    for line in file:\n",
        "        print(line.strip())  # .strip() removes newline characters\n"
      ],
      "metadata": {
        "id": "BFLmhs5hAUwB"
      },
      "execution_count": null,
      "outputs": []
    },
    {
      "cell_type": "markdown",
      "source": [
        "# Write a pthon program that reads a file and prints the number of occurrences of a specific word."
      ],
      "metadata": {
        "id": "l7gR_dBQ_XCz"
      }
    },
    {
      "cell_type": "code",
      "source": [
        "def count_word_in_file(filename, target_word):\n",
        "    try:\n",
        "        with open(filename, 'r') as file:\n",
        "            content = file.read().lower()  # Convert to lowercase for case-insensitive matching\n",
        "            words = content.split()\n",
        "            count = words.count(target_word.lower())\n",
        "            print(f\"The word '{target_word}' occurs {count} time(s) in the file.\")\n",
        "    except FileNotFoundError:\n",
        "        print(f\"Error: The file '{filename}' was not found.\")\n",
        "\n",
        "# Example usage\n",
        "filename = \"sample.txt\"          # Replace with your file name\n",
        "target_word = \"python\"           # Replace with the word you want to count\n",
        "count_word_in_file(filename, target_word)\n"
      ],
      "metadata": {
        "colab": {
          "base_uri": "https://localhost:8080/"
        },
        "id": "ekzPBIdRArcE",
        "outputId": "3276ceb3-c2bb-4a07-8c7c-4a082e820e83"
      },
      "execution_count": 16,
      "outputs": [
        {
          "output_type": "stream",
          "name": "stdout",
          "text": [
            "Error: The file 'sample.txt' was not found.\n"
          ]
        }
      ]
    },
    {
      "cell_type": "markdown",
      "source": [
        "# How can you check if a file is empty before attempting to read its contents?"
      ],
      "metadata": {
        "id": "oCFLJYpCA2kw"
      }
    },
    {
      "cell_type": "code",
      "source": [
        "# method 1 using os.stat()\n",
        "\n",
        "import os\n",
        "\n",
        "filename = \"example.txt\"\n",
        "\n",
        "# Check if file exists and is not empty\n",
        "if os.path.exists(filename) and os.stat(filename).st_size == 0:\n",
        "    print(\"The file is empty.\")\n",
        "else:\n",
        "    with open(filename, 'r') as file:\n",
        "        contents = file.read()\n",
        "        print(contents)\n",
        "\n",
        "\n",
        "# method 2 using file.read()\n",
        "\n",
        "filename = \"example.txt\"\n",
        "\n",
        "with open(filename, 'r') as file:\n",
        "    contents = file.read()\n",
        "    if not contents:\n",
        "        print(\"The file is empty.\")\n",
        "    else:\n",
        "        print(contents)\n"
      ],
      "metadata": {
        "id": "l2TGun70Ay4f"
      },
      "execution_count": null,
      "outputs": []
    },
    {
      "cell_type": "markdown",
      "source": [
        "# Write a python program that writes to a log file when an error occurs during file handling?"
      ],
      "metadata": {
        "id": "8mbV8Tu1Bdbm"
      }
    },
    {
      "cell_type": "code",
      "source": [
        "import logging\n",
        "\n",
        "# Configure logging\n",
        "logging.basicConfig(\n",
        "    filename='file_errors.log',\n",
        "    level=logging.ERROR,\n",
        "    format='%(asctime)s - %(levelname)s - %(message)s'\n",
        ")\n",
        "\n",
        "def read_file(filename):\n",
        "    try:\n",
        "        with open(filename, 'r') as file:\n",
        "            data = file.read()\n",
        "            print(\"File contents:\\n\", data)\n",
        "    except FileNotFoundError as e:\n",
        "        logging.error(f\"File not found: {filename}\")\n",
        "        print(f\"Error: File '{filename}' not found.\")\n",
        "    except IOError as e:\n",
        "        logging.error(f\"IO error while handling file: {filename} - {e}\")\n",
        "        print(f\"Error reading file '{filename}'.\")\n",
        "\n",
        "# Example usage\n",
        "read_file(\"nonexistent_file.txt\")\n"
      ],
      "metadata": {
        "colab": {
          "base_uri": "https://localhost:8080/"
        },
        "id": "ASYPekpMBp_N",
        "outputId": "af4fa2a0-3d12-4dcf-f0ef-1066ad4ac785"
      },
      "execution_count": 17,
      "outputs": [
        {
          "output_type": "stream",
          "name": "stderr",
          "text": [
            "ERROR:root:File not found: nonexistent_file.txt\n"
          ]
        },
        {
          "output_type": "stream",
          "name": "stdout",
          "text": [
            "Error: File 'nonexistent_file.txt' not found.\n"
          ]
        }
      ]
    }
  ]
}